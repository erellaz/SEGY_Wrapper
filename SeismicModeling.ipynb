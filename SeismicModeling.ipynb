{
 "cells": [
  {
   "cell_type": "markdown",
   "metadata": {},
   "source": [
    "# Seismic forward modeling with Deepwave, from SEGY to SEGY:"
   ]
  },
  {
   "cell_type": "markdown",
   "metadata": {},
   "source": [
    "First let's install Deepwave, a 2D/3D acoustic propagator, and SEGYIO/Obspy to read/write Segys. After a fresh install of Ubuntu 20.10, here is the Deepwave install procedure. You may want to use a separate Python environment."
   ]
  },
  {
   "cell_type": "code",
   "execution_count": null,
   "metadata": {},
   "outputs": [],
   "source": [
    "sudo apt update\n",
    "sudo apt install python3-pip\n",
    "wget https://repo.anaconda.com/miniconda/Miniconda3-latest-Linux-x86_64.sh\n",
    "chmod +x Miniconda3-latest-Linux-x86_64.sh\n",
    "./Miniconda3-latest-Linux-x86_64.sh"
   ]
  },
  {
   "cell_type": "markdown",
   "metadata": {},
   "source": [
    "allow Miniconda to add setup to .bashrc, then restart terminal."
   ]
  },
  {
   "cell_type": "code",
   "execution_count": null,
   "metadata": {},
   "outputs": [],
   "source": [
    "conda install pytorch torchvision torchaudio cpuonly -c pytorch\n",
    "conda install scipy\n",
    "pip install deepwave\n",
    "pip install segyio\n",
    "pip install obspy"
   ]
  },
  {
   "cell_type": "markdown",
   "metadata": {},
   "source": [
    "You can now test Deepwave with test.py from Deepwave's Github repository. It contains the \"full example\" from forward modelling in the Deepwave README.md. "
   ]
  },
  {
   "cell_type": "markdown",
   "metadata": {},
   "source": [
    "Second let's download some public data (from SEG/EAGE) to run our simulation, and unpack it:"
   ]
  },
  {
   "cell_type": "code",
   "execution_count": null,
   "metadata": {},
   "outputs": [],
   "source": [
    "wget http://s3.amazonaws.com/open.source.geoscience/open_data/bpvelanal2004/vel_z6.25m_x12.5m_exact.segy.gz\n",
    "gunzip vel_z6.25m_x12.5m_exact.segy.gz"
   ]
  },
  {
   "cell_type": "markdown",
   "metadata": {},
   "source": [
    "This is the BP \"tooth model\", a nice and simple 2D velocity model used for benchmarks. It is distributed in SEGY."
   ]
  },
  {
   "cell_type": "markdown",
   "metadata": {},
   "source": [
    "Let's import the python packages to be used for the simulation, and define a few parameters:"
   ]
  },
  {
   "cell_type": "code",
   "execution_count": 18,
   "metadata": {},
   "outputs": [],
   "source": [
    "'''\n",
    "2D acoustic wave equation propagator, using Deepwave\n",
    "\n",
    "Here we will:\n",
    "    -define propagator parameters\n",
    "    -define a shot geometry\n",
    "    -Load a numpy array with the velocity model previously prepared from a SEGY\n",
    "    -run the propagator\n",
    "    -extract shots, resample along the time dimension\n",
    "    -save the shots in compressed numpy array on disk\n",
    "    -export the shots to SEGY\n",
    "'''\n",
    "\n",
    "import torch\n",
    "import numpy as np\n",
    "import scipy\n",
    "import matplotlib.pyplot as plt\n",
    "import deepwave\n",
    "import SEGY_wrapper as wrap\n",
    "\n",
    "#______________________________________________________________________________\n",
    "#User parameters: \n",
    "    \n",
    "# Propagator parameters\n",
    "freq = 12 # source max frequency in Hz\n",
    "dx = [12.5,12.5] # Float or list of floats containing cell spacing in each dimension ordered as [dz, dy, (dx)]\n",
    "dt = 0.001 # Propagator time step in s\n",
    "nt = int(5 / dt) # insert shot length in seconds \n",
    "num_dims = 2 #  2D or 3D\n",
    "\n",
    "# Survey parameters\n",
    "num_shots = 2 #10\n",
    "num_sources_per_shot = 1\n",
    "num_receivers_per_shot = 1000\n",
    "source_spacing = 800.0 # meters\n",
    "receiver_spacing = 12.5 # meters\n",
    "\n",
    "# Compute parameters, CPUs or GPUs\n",
    "#device = torch.device('cuda:0') # GPU\n",
    "device = torch.device(\"cpu\") #CPU\n",
    "\n",
    "#The compressed Numpy array with all the shots, resampled in time\n",
    "time_decim=6 # decimation of the shots in the time direction before saving shots to disk"
   ]
  },
  {
   "cell_type": "markdown",
   "metadata": {},
   "source": [
    "Now let's call the SEGY wrapper to load to Numpy a subset of the SEGY we previously downloaded:"
   ]
  },
  {
   "cell_type": "code",
   "execution_count": 19,
   "metadata": {},
   "outputs": [
    {
     "name": "stdout",
     "output_type": "stream",
     "text": [
      "C 1  vel_z6.25m_x12.5m_exact.segy\n",
      "C 2  Exact velocity model\n",
      "C 3  axis   z    x    y\n",
      "C 4  size   1911 5395 1\n",
      "C 5  origin 0    0    0\n",
      "C 6  delta  6.25 12.5 1\n",
      "C 7  unit   meter\n",
      "C 8\n",
      "C 9  XYScaler=-10\n",
      "C 10 ElevScaler=-10\n",
      "C 11\n",
      "C 12 BP 2004 Velocity Benchmark\n",
      "C 13\n",
      "C 14 Read full disclaimer provided with the data.\n",
      "C 15\n",
      "C 16 You accept the material as is and assume all responsability\n",
      "C 17 for the results or use of the material. Any use which you\n",
      "C 18 make of the materials is at your own risks.\n",
      "C 19\n",
      "C 20 BP provides no warranties to you, expressed, implied or statutory,\n",
      "C 21 including any implied warranties of fitness for a particular purpose.\n",
      "C 22\n",
      "C 23 You agree that if you share any or all of this data with any other\n",
      "C 24 person or organization, you will also include all of the associated\n",
      "C 25 documentation originally included with the data and provided to you.\n",
      "C 26\n",
      "C 27 In no event will BP be liable for any damages, including direct,\n",
      "C 28 indirect, special, incidental or consequential damages arising out\n",
      "C 29 of anyone's use of or inability to use these materials, or any copies\n",
      "C 30 prepared from these materials, even if BP has been advised as to the\n",
      "C 31 possibility of such damages.\n",
      "C 32\n",
      "C 33 If you use this data in a publication or presentation, you must reference\n",
      "C 34 that it was provided courtesy of BP, and acknowledge BP and Frederic\n",
      "C 35 Billette.\n",
      "C 36\n",
      "C 37 Contact\n",
      "C 38 Frederic Billette\n",
      "C 39 BP America\n",
      "C 40 billetfj@bp.com\n",
      "\n",
      "\n",
      "\n",
      "{JobID: 0, LineNumber: 0, ReelNumber: 0, Traces: 5395, AuxTraces: 0, Interval: 6250, IntervalOriginal: 0, Samples: 1911, SamplesOriginal: 0, Format: 1, EnsembleFold: 0, SortingCode: 0, VerticalSum: 0, SweepFrequencyStart: 0, SweepFrequencyEnd: 0, SweepLength: 0, Sweep: 0, SweepChannel: 0, SweepTaperStart: 0, SweepTaperEnd: 0, Taper: 0, CorrelatedTraces: 0, BinaryGainRecovery: 0, AmplitudeRecovery: 0, MeasurementSystem: 2, ImpulseSignalPolarity: 0, VibratoryPolarity: 0, ExtAuxTraces: 0, ExtSamples: 0, ExtSamplesOriginal: 0, ExtEnsembleFold: 0, SEGYRevision: 0, SEGYRevisionMinor: 0, TraceFlag: 1, ExtendedHeaders: 0}\n",
      "\n",
      "\n",
      "\n",
      "Sample rate: 4.0\n",
      "Number of Traces: 5395\n",
      "Velocity array size: (1911, 5395)\n",
      "Vmin, Vmax 1429.00024414 4790.0\n",
      "Velocity array subset size: (478, 1000)\n"
     ]
    },
    {
     "data": {
      "image/png": "[encoded data removed]",
      "text/plain": [
       "<Figure size 432x288 with 1 Axes>"
      ]
     },
     "metadata": {
      "needs_background": "light"
     },
     "output_type": "display_data"
    }
   ],
   "source": [
    "# Load a subset of a SEGY into a NUMPY array using the SEGY Wraper\n",
    "model_true=wrap.Segy2Numpy('vel_z6.25m_x12.5m_exact.segy',subsetz=(None,None,4),subsety=(2000,4000,2))"
   ]
  },
  {
   "cell_type": "markdown",
   "metadata": {},
   "source": [
    "The wrapper shows us the EBCDIC header of our SEGY file, the binary header, and some relevant information from the trace header. Then it displays in an image of the subset of the velocity we selected.It returns a numpy array -not a torch tensor, for maximum compatibility with other propagators we may want to wrap, besides Deepwave."
   ]
  },
  {
   "cell_type": "markdown",
   "metadata": {},
   "source": [
    "Of course you can get the help and a description of the arguments of the Segy2Numpy function by looping at the docstring as usual:"
   ]
  },
  {
   "cell_type": "code",
   "execution_count": 20,
   "metadata": {},
   "outputs": [
    {
     "name": "stdout",
     "output_type": "stream",
     "text": [
      "\n",
      "    Read a SEGY dataset and save a subset (or all of it) into a numpy array.\n",
      "    Perform diagnostics and QCs. 2D or 3D. \n",
      "    If the dataset is 3D, the user should reshape the NumpyArray after calling \n",
      "    this function.\n",
      "    Arguments:\n",
      "    -segyfile: name or full path to a valid SEGY file\n",
      "    -subsetz, subsety: slice in the z and y direction, default: selec all\n",
      "    -verbose: print EBCDIC header, binary header and some trace parameters, default: True\n",
      "    -pictures: display and save pictures of the full and subset of the segy, default: True\n",
      "    -savez: save the data in compressed numpy array form on disk, named from SEGY\n",
      "    \n"
     ]
    }
   ],
   "source": [
    "print(wrap.Segy2Numpy.__doc__)"
   ]
  },
  {
   "cell_type": "markdown",
   "metadata": {},
   "source": [
    "Now let's look in detail at our Numpy array and our parameters:"
   ]
  },
  {
   "cell_type": "code",
   "execution_count": 21,
   "metadata": {},
   "outputs": [
    {
     "name": "stdout",
     "output_type": "stream",
     "text": [
      "Velocity model Information:\n",
      "Velocity model size, ny , nz: 1000 478\n",
      "Velocity model size in meters, Y and Z: 12487.5 5962.5\n",
      "Velocity min and max: 1429.00024414 4790.0\n",
      "Grid size: [12.5, 12.5]\n",
      "Time step, number of time samples 0.001 5000\n",
      "Stability condition on the time step dt: 0.001 < 0.00184526821813\n"
     ]
    }
   ],
   "source": [
    "# Print informations and make pictures for QC\n",
    "ny = model_true.shape[1] # Number of samples along y\n",
    "nz = model_true.shape[0] # Number of depth samples, ie nbr samples along z\n",
    "print(\"Velocity model Information:\")\n",
    "print(\"Velocity model size, ny , nz:\", ny,nz)\n",
    "print(\"Velocity model size in meters, Y and Z:\",(ny-1)*dx[1],(nz-1)*dx[0])\n",
    "Vvmin, Vvmax = np.percentile(model_true, [0,100])\n",
    "print(\"Velocity min and max:\", Vvmin, Vvmax)\n",
    "#plt.imshow(model_true, cmap=plt.cm.jet, vmin=Vvmin, vmax=Vvmax)\n",
    "plt.imsave('velocity_model_for_prop.png',model_true,\n",
    "           cmap=plt.cm.jet, vmin=Vvmax, vmax=Vvmax)\n",
    "#Compute stability condition\n",
    "dtmax=wrap.CourantCondition(dx,num_dims,Vvmax)\n",
    "print(\"Grid size:\",dx)\n",
    "print(\"Time step, number of time samples\", dt,nt)\n",
    "print(\"Stability condition on the time step dt:\",dt,\"<\",dtmax)"
   ]
  },
  {
   "cell_type": "markdown",
   "metadata": {},
   "source": [
    "Here we have called CourantCondition from the wrapper to make sure our simulation satisfies the stability condition."
   ]
  },
  {
   "cell_type": "code",
   "execution_count": 22,
   "metadata": {},
   "outputs": [
    {
     "name": "stdout",
     "output_type": "stream",
     "text": [
      "Courant–Friedrichs–Lewy stability condition. Find the maximum stable \n",
      "    time step allowed by the grid cell size and maximum velocity.\n"
     ]
    }
   ],
   "source": [
    "print(wrap.CourantCondition.__doc__)"
   ]
  },
  {
   "cell_type": "markdown",
   "metadata": {},
   "source": [
    "For maximum compatibility the wrapper provides Numpy array, while Deepwave uses Torch tensor, let's convert:"
   ]
  },
  {
   "cell_type": "code",
   "execution_count": 23,
   "metadata": {},
   "outputs": [],
   "source": [
    "# Convert from NUMPY array to torch tensor\n",
    "model_true = torch.Tensor(model_true) # Convert to a PyTorch Tensor"
   ]
  },
  {
   "cell_type": "markdown",
   "metadata": {},
   "source": [
    "Define the survey Geometry:"
   ]
  },
  {
   "cell_type": "code",
   "execution_count": 24,
   "metadata": {},
   "outputs": [],
   "source": [
    "# Define survey Geometry\n",
    "# Create arrays containing the source and receiver locations\n",
    "# x_s: Source locations [num_shots, num_sources_per_shot, num_dimensions]\n",
    "# x_r: Receiver locations [num_shots, num_receivers_per_shot, num_dimensions]\n",
    "x_s = torch.zeros(num_shots, num_sources_per_shot, num_dims)\n",
    "x_s[:, 0, 1] = torch.arange(num_shots).float() * source_spacing\n",
    "x_r = torch.zeros(num_shots, num_receivers_per_shot, num_dims)\n",
    "x_r[0, :, 1] = torch.arange(num_receivers_per_shot).float() * receiver_spacing\n",
    "x_r[:, :, 1] = x_r[0, :, 1].repeat(num_shots, 1)"
   ]
  },
  {
   "cell_type": "markdown",
   "metadata": {},
   "source": [
    "Define the source waveform:"
   ]
  },
  {
   "cell_type": "code",
   "execution_count": 25,
   "metadata": {},
   "outputs": [],
   "source": [
    "# Create true source amplitudes [nt, num_shots, num_sources_per_shot]\n",
    "# I use Deepwave's Ricker wavelet function. The result is a normal Tensor - you\n",
    "# can use whatever Tensor you want as the source amplitude.\n",
    "source_amplitudes_true = (deepwave.wavelets.ricker(freq, nt, dt, 1/freq)\n",
    "                          .reshape(-1, 1, 1)\n",
    "                          .repeat(1, num_shots, num_sources_per_shot))"
   ]
  },
  {
   "cell_type": "markdown",
   "metadata": {},
   "source": [
    "Call the propagator. This is where the magic happens, be patient:"
   ]
  },
  {
   "cell_type": "code",
   "execution_count": 26,
   "metadata": {},
   "outputs": [],
   "source": [
    "# Propagator call and shot extraction\n",
    "prop = deepwave.scalar.Propagator({'vp': model_true.to(device)}, dx)\n",
    "receiver_amplitudes_true = prop(source_amplitudes_true.to(device),\n",
    "                                x_s.to(device),\n",
    "                                x_r.to(device), dt).cpu()"
   ]
  },
  {
   "cell_type": "markdown",
   "metadata": {},
   "source": [
    "The time step of the propagator has been defined by the Courant stability condition. The actual time step of the shot output is only limited by the Nyquist condition on the source maximum frequency. So we can (and should) resample the shots, also applying an antialias to remove any unwanted HF due to FDM dispertion. We also convert from torch tensor to Numpy."
   ]
  },
  {
   "cell_type": "code",
   "execution_count": 27,
   "metadata": {},
   "outputs": [],
   "source": [
    "# Take all the shots, convert to 3D numpy array, \n",
    "# and resample with antialias in the time direction\n",
    "allshotsresamp=scipy.signal.decimate(receiver_amplitudes_true[:,:].cpu().numpy(), \n",
    "                                 time_decim, n=None, ftype='iir', axis=0, zero_phase=True)\n",
    "#plt.imsave('shotresamp2.png',shotresamp[:,1],cmap=plt.cm.seismic, vmin=-vmax, vmax=vmax)\n",
    "#np.savez(shotsout,allshotsresamp)# save numpy array to disk"
   ]
  },
  {
   "cell_type": "markdown",
   "metadata": {},
   "source": [
    "And call the wrapper to export to SEGY:"
   ]
  },
  {
   "cell_type": "code",
   "execution_count": 28,
   "metadata": {},
   "outputs": [
    {
     "name": "stdout",
     "output_type": "stream",
     "text": [
      "t_sample,nbr_of_shots,nbr_of_traces: 834 2 1000\n",
      "Processing Shot: 0\n",
      "C 1  Synthetic Shot created from Deepwave\n",
      "    C 2  Velocity used: \n",
      "    C 3  Forward modeling parameters:\n",
      "    C 4  freq = \n",
      "    C 5  dx = \n",
      "    C 6  dt = \n",
      "    C 7  nt = \n",
      "    C 8  num_dims = \n",
      "    C 9  \n",
      "    C10  Survey parameters\n",
      "    C11  num_shots = \n",
      "    C12  num_sources_per_shot = \n",
      "    C13  num_receivers_per_shot = \n",
      "    C14  source_spacing =  # meters\n",
      "    C15  receiver_spacing =  # meters\n",
      "    C16\n",
      "    C17  Compute parameters, CPUs or GPUs\n",
      "    C18\n",
      "    C19  device = \n",
      "    C20  velname=\n",
      "    C21  time_decim=\n",
      "    C22\n",
      "    C23 \n",
      "    C24 \n",
      "    C25 \n",
      "    C26\n",
      "    C27 \n",
      "    C28 \n",
      "    C29 \n",
      "    C30 \n",
      "    C31 \n",
      "    C32\n",
      "    C33 \n",
      "    C34 \n",
      "    C35 \n",
      "    C36\n",
      "    C37 \n",
      "    C38 \n",
      "    C39 \n",
      "    C40 \n",
      "Binary File Header:\n",
      "\tjob_identification_number: 0\n",
      "\tline_number: 0\n",
      "\treel_number: 0\n",
      "\tnumber_of_data_traces_per_ensemble: 1\n",
      "\tnumber_of_auxiliary_traces_per_ensemble: 0\n",
      "\tsample_interval_in_microseconds: 6\n",
      "\tsample_interval_in_microseconds_of_original_field_recording: 0\n",
      "\tnumber_of_samples_per_data_trace: 834\n",
      "\tnumber_of_samples_per_data_trace_for_original_field_recording: 0\n",
      "\tdata_sample_format_code: 1\n",
      "\tensemble_fold: 1\n",
      "\ttrace_sorting_code: 5\n",
      "\tvertical_sum_code: 0\n",
      "\tsweep_frequency_at_start: 0\n",
      "\tsweep_frequency_at_end: 0\n",
      "\tsweep_length: 0\n",
      "\tsweep_type_code: 0\n",
      "\ttrace_number_of_sweep_channel: 0\n",
      "\tsweep_trace_taper_length_in_ms_at_start: 0\n",
      "\tsweep_trace_taper_length_in_ms_at_end: 0\n",
      "\ttaper_type: 0\n",
      "\tcorrelated_data_traces: 0\n",
      "\tbinary_gain_recovered: 0\n",
      "\tamplitude_recovery_method: 0\n",
      "\tmeasurement_system: 1\n",
      "\timpulse_signal_polarity: 1\n",
      "\tvibratory_polarity_code: 0\n",
      "\tunassigned_1: 0\n",
      "\tseg_y_format_revision_number: 0\n",
      "\tfixed_length_trace_flag: 1\n",
      "\tnumber_of_3200_byte_ext_file_header_records_following: 0\n",
      "\tunassigned_2: 0\n",
      "trace_sequence_number_within_line: 1000\n",
      "trace_sequence_number_within_segy_file: 1000\n",
      "original_field_record_number: 0\n",
      "trace_number_within_the_original_field_record: 0\n",
      "energy_source_point_number: 0\n",
      "ensemble_number: 1000\n",
      "trace_number_within_the_ensemble: 0\n",
      "trace_identification_code: 0\n",
      "number_of_vertically_summed_traces_yielding_this_trace: 0\n",
      "number_of_horizontally_stacked_traces_yielding_this_trace: 0\n",
      "data_use: 0\n",
      "distance_from_center_of_the_source_point_to_the_center_of_the_receiver_group: 0\n",
      "receiver_group_elevation: 0\n",
      "surface_elevation_at_source: 0\n",
      "source_depth_below_surface: 0\n",
      "datum_elevation_at_receiver_group: 0\n",
      "datum_elevation_at_source: 0\n",
      "water_depth_at_source: 0\n",
      "water_depth_at_group: 0\n",
      "scalar_to_be_applied_to_all_elevations_and_depths: 0\n",
      "scalar_to_be_applied_to_all_coordinates: 0\n",
      "source_coordinate_x: 0\n",
      "source_coordinate_y: 0\n",
      "group_coordinate_x: 0\n",
      "group_coordinate_y: 0\n",
      "coordinate_units: 0\n",
      "weathering_velocity: 0\n",
      "subweathering_velocity: 0\n",
      "uphole_time_at_source_in_ms: 0\n",
      "uphole_time_at_group_in_ms: 0\n",
      "source_static_correction_in_ms: 0\n",
      "group_static_correction_in_ms: 0\n",
      "total_static_applied_in_ms: 0\n",
      "lag_time_A: 0\n",
      "lag_time_B: 0\n",
      "delay_recording_time: 0\n",
      "mute_time_start_time_in_ms: 0\n",
      "mute_time_end_time_in_ms: 0\n",
      "number_of_samples_in_this_trace: 0\n",
      "sample_interval_in_ms_for_this_trace: 0\n",
      "gain_type_of_field_instruments: 0\n",
      "instrument_gain_constant: 0\n",
      "instrument_early_or_initial_gain: 0\n",
      "correlated: 0\n",
      "sweep_frequency_at_start: 0\n",
      "sweep_frequency_at_end: 0\n",
      "sweep_length_in_ms: 0\n",
      "sweep_type: 0\n",
      "sweep_trace_taper_length_at_start_in_ms: 0\n",
      "sweep_trace_taper_length_at_end_in_ms: 0\n",
      "taper_type: 0\n",
      "alias_filter_frequency: 0\n",
      "alias_filter_slope: 0\n",
      "notch_filter_frequency: 0\n",
      "notch_filter_slope: 0\n",
      "low_cut_frequency: 0\n",
      "high_cut_frequency: 0\n",
      "low_cut_slope: 0\n",
      "high_cut_slope: 0\n",
      "year_data_recorded: 0\n",
      "day_of_year: 0\n",
      "hour_of_day: 0\n",
      "minute_of_hour: 0\n",
      "second_of_minute: 0\n",
      "time_basis_code: 0\n",
      "trace_weighting_factor: 0\n",
      "geophone_group_number_of_roll_switch_position_one: 0\n",
      "geophone_group_number_of_trace_number_one: 0\n",
      "geophone_group_number_of_last_trace: 0\n",
      "gap_size: 0\n",
      "over_travel_associated_with_taper: 0\n",
      "x_coordinate_of_ensemble_position_of_this_trace: 0\n",
      "y_coordinate_of_ensemble_position_of_this_trace: 0\n",
      "for_3d_poststack_data_this_field_is_for_in_line_number: 0\n",
      "for_3d_poststack_data_this_field_is_for_cross_line_number: 0\n",
      "shotpoint_number: 0\n",
      "scalar_to_be_applied_to_the_shotpoint_number: 0\n",
      "trace_value_measurement_unit: 0\n",
      "transduction_constant_mantissa: 0\n",
      "transduction_constant_exponent: 0\n",
      "transduction_units: 0\n",
      "device_trace_identifier: 0\n",
      "scalar_to_be_applied_to_times: 0\n",
      "source_type_orientation: 0\n",
      "source_energy_direction_mantissa: 0\n",
      "source_energy_direction_exponent: 0\n",
      "source_measurement_mantissa: 0\n",
      "source_measurement_exponent: 0\n",
      "source_measurement_unit: 0\n",
      "\n",
      "Stream object before writing...\n",
      "1000 Trace(s) in Stream:\n",
      "\n",
      "Seq. No. in line:    1 | 1970-01-01T00:00:00.000000Z - 1970-01-01T00:00:04.998000Z | 166.7 Hz, 834 samples\n",
      "...\n",
      "(998 other traces)\n",
      "...\n",
      "Seq. No. in line: 1000 | 1970-01-01T00:00:00.000000Z - 1970-01-01T00:00:04.998000Z | 166.7 Hz, 834 samples\n",
      "\n",
      "[Use \"print(Stream.__str__(extended=True))\" to print all Traces]\n",
      "Shot_0.sgy\n",
      "Processing Shot: 1\n",
      "C 1  Synthetic Shot created from Deepwave\n",
      "    C 2  Velocity used: \n",
      "    C 3  Forward modeling parameters:\n",
      "    C 4  freq = \n",
      "    C 5  dx = \n",
      "    C 6  dt = \n",
      "    C 7  nt = \n",
      "    C 8  num_dims = \n",
      "    C 9  \n",
      "    C10  Survey parameters\n",
      "    C11  num_shots = \n",
      "    C12  num_sources_per_shot = \n",
      "    C13  num_receivers_per_shot = \n",
      "    C14  source_spacing =  # meters\n",
      "    C15  receiver_spacing =  # meters\n",
      "    C16\n",
      "    C17  Compute parameters, CPUs or GPUs\n",
      "    C18\n",
      "    C19  device = \n",
      "    C20  velname=\n",
      "    C21  time_decim=\n",
      "    C22\n",
      "    C23 \n",
      "    C24 \n",
      "    C25 \n",
      "    C26\n",
      "    C27 \n",
      "    C28 \n",
      "    C29 \n",
      "    C30 \n",
      "    C31 \n",
      "    C32\n",
      "    C33 \n",
      "    C34 \n",
      "    C35 \n",
      "    C36\n",
      "    C37 \n",
      "    C38 \n",
      "    C39 \n",
      "    C40 \n",
      "Binary File Header:\n",
      "\tjob_identification_number: 0\n",
      "\tline_number: 0\n",
      "\treel_number: 0\n",
      "\tnumber_of_data_traces_per_ensemble: 1\n",
      "\tnumber_of_auxiliary_traces_per_ensemble: 0\n",
      "\tsample_interval_in_microseconds: 6\n",
      "\tsample_interval_in_microseconds_of_original_field_recording: 0\n",
      "\tnumber_of_samples_per_data_trace: 834\n",
      "\tnumber_of_samples_per_data_trace_for_original_field_recording: 0\n",
      "\tdata_sample_format_code: 1\n",
      "\tensemble_fold: 1\n",
      "\ttrace_sorting_code: 5\n",
      "\tvertical_sum_code: 0\n",
      "\tsweep_frequency_at_start: 0\n",
      "\tsweep_frequency_at_end: 0\n",
      "\tsweep_length: 0\n",
      "\tsweep_type_code: 0\n",
      "\ttrace_number_of_sweep_channel: 0\n",
      "\tsweep_trace_taper_length_in_ms_at_start: 0\n",
      "\tsweep_trace_taper_length_in_ms_at_end: 0\n",
      "\ttaper_type: 0\n",
      "\tcorrelated_data_traces: 0\n",
      "\tbinary_gain_recovered: 0\n",
      "\tamplitude_recovery_method: 0\n",
      "\tmeasurement_system: 1\n",
      "\timpulse_signal_polarity: 1\n",
      "\tvibratory_polarity_code: 0\n",
      "\tunassigned_1: 0\n",
      "\tseg_y_format_revision_number: 0\n",
      "\tfixed_length_trace_flag: 1\n",
      "\tnumber_of_3200_byte_ext_file_header_records_following: 0\n",
      "\tunassigned_2: 0\n",
      "trace_sequence_number_within_line: 1000\n",
      "trace_sequence_number_within_segy_file: 1000\n",
      "original_field_record_number: 0\n",
      "trace_number_within_the_original_field_record: 0\n",
      "energy_source_point_number: 0\n",
      "ensemble_number: 1000\n",
      "trace_number_within_the_ensemble: 0\n",
      "trace_identification_code: 0\n",
      "number_of_vertically_summed_traces_yielding_this_trace: 0\n",
      "number_of_horizontally_stacked_traces_yielding_this_trace: 0\n",
      "data_use: 0\n",
      "distance_from_center_of_the_source_point_to_the_center_of_the_receiver_group: 0\n",
      "receiver_group_elevation: 0\n",
      "surface_elevation_at_source: 0\n",
      "source_depth_below_surface: 0\n",
      "datum_elevation_at_receiver_group: 0\n",
      "datum_elevation_at_source: 0\n",
      "water_depth_at_source: 0\n",
      "water_depth_at_group: 0\n",
      "scalar_to_be_applied_to_all_elevations_and_depths: 0\n",
      "scalar_to_be_applied_to_all_coordinates: 0\n",
      "source_coordinate_x: 0\n",
      "source_coordinate_y: 0\n",
      "group_coordinate_x: 0\n",
      "group_coordinate_y: 0\n",
      "coordinate_units: 0\n",
      "weathering_velocity: 0\n",
      "subweathering_velocity: 0\n",
      "uphole_time_at_source_in_ms: 0\n",
      "uphole_time_at_group_in_ms: 0\n",
      "source_static_correction_in_ms: 0\n",
      "group_static_correction_in_ms: 0\n",
      "total_static_applied_in_ms: 0\n",
      "lag_time_A: 0\n",
      "lag_time_B: 0\n",
      "delay_recording_time: 0\n",
      "mute_time_start_time_in_ms: 0\n",
      "mute_time_end_time_in_ms: 0\n",
      "number_of_samples_in_this_trace: 0\n",
      "sample_interval_in_ms_for_this_trace: 0\n",
      "gain_type_of_field_instruments: 0\n",
      "instrument_gain_constant: 0\n",
      "instrument_early_or_initial_gain: 0\n",
      "correlated: 0\n",
      "sweep_frequency_at_start: 0\n",
      "sweep_frequency_at_end: 0\n",
      "sweep_length_in_ms: 0\n",
      "sweep_type: 0\n",
      "sweep_trace_taper_length_at_start_in_ms: 0\n",
      "sweep_trace_taper_length_at_end_in_ms: 0\n",
      "taper_type: 0\n",
      "alias_filter_frequency: 0\n",
      "alias_filter_slope: 0\n",
      "notch_filter_frequency: 0\n",
      "notch_filter_slope: 0\n",
      "low_cut_frequency: 0\n",
      "high_cut_frequency: 0\n",
      "low_cut_slope: 0\n",
      "high_cut_slope: 0\n",
      "year_data_recorded: 0\n",
      "day_of_year: 0\n",
      "hour_of_day: 0\n",
      "minute_of_hour: 0\n",
      "second_of_minute: 0\n",
      "time_basis_code: 0\n",
      "trace_weighting_factor: 0\n",
      "geophone_group_number_of_roll_switch_position_one: 0\n",
      "geophone_group_number_of_trace_number_one: 0\n",
      "geophone_group_number_of_last_trace: 0\n",
      "gap_size: 0\n",
      "over_travel_associated_with_taper: 0\n",
      "x_coordinate_of_ensemble_position_of_this_trace: 0\n",
      "y_coordinate_of_ensemble_position_of_this_trace: 0\n",
      "for_3d_poststack_data_this_field_is_for_in_line_number: 0\n",
      "for_3d_poststack_data_this_field_is_for_cross_line_number: 0\n",
      "shotpoint_number: 0\n",
      "scalar_to_be_applied_to_the_shotpoint_number: 0\n",
      "trace_value_measurement_unit: 0\n",
      "transduction_constant_mantissa: 0\n",
      "transduction_constant_exponent: 0\n",
      "transduction_units: 0\n",
      "device_trace_identifier: 0\n",
      "scalar_to_be_applied_to_times: 0\n",
      "source_type_orientation: 0\n",
      "source_energy_direction_mantissa: 0\n",
      "source_energy_direction_exponent: 0\n",
      "source_measurement_mantissa: 0\n",
      "source_measurement_exponent: 0\n",
      "source_measurement_unit: 0\n",
      "\n",
      "Stream object before writing...\n",
      "1000 Trace(s) in Stream:\n",
      "\n",
      "Seq. No. in line:    1 | 1970-01-01T00:00:00.000000Z - 1970-01-01T00:00:04.998000Z | 166.7 Hz, 834 samples\n",
      "...\n",
      "(998 other traces)\n",
      "...\n",
      "Seq. No. in line: 1000 | 1970-01-01T00:00:00.000000Z - 1970-01-01T00:00:04.998000Z | 166.7 Hz, 834 samples\n",
      "\n",
      "[Use \"print(Stream.__str__(extended=True))\" to print all Traces]\n",
      "Shot_1.sgy\n"
     ]
    }
   ],
   "source": [
    "# Export the shots to SEGY\n",
    "wrap.Numpy2Segy(\"FDM_\",allshotsresamp, 1000*dt*time_decim)"
   ]
  },
  {
   "cell_type": "markdown",
   "metadata": {},
   "source": [
    "Again here is the docstring of the Numpy2Segy function:"
   ]
  },
  {
   "cell_type": "code",
   "execution_count": 29,
   "metadata": {},
   "outputs": [
    {
     "name": "stdout",
     "output_type": "stream",
     "text": [
      "\n",
      "    Export to SEGY shots generated by a Wave Equation Propgator, eg Deepwave\n",
      "        -Load the numpy array contaijing all shots generated by the propagator\n",
      "        -Save one picture per shot\n",
      "        -Export the shots in from Numpy to SEGY, one SEGY per shot\n",
      "        \n",
      "        To export SEGYs we will call SEGYIO through Obspy, \n",
      "        which is much easier than SEGYIO when creating segys from scratch.\n",
      "        \n",
      "        Arguments:\n",
      "            -segy_name: radical name or full path + radical to the desired output\n",
      "            -Shots: numpy array for the shots\n",
      "            -verbose: print EBCDIC header, binary header and some trace parameters, default: True\n",
      "            -pictures: display and save pictures of the fshots, default: True\n",
      "            -EBCDIC: default or custom EBCDIC header\n",
      "    \n",
      "    \n"
     ]
    }
   ],
   "source": [
    "print(wrap.Numpy2Segy.__doc__)"
   ]
  },
  {
   "cell_type": "markdown",
   "metadata": {},
   "source": [
    "Now let's QC the shots we just output to SEGY:"
   ]
  },
  {
   "cell_type": "markdown",
   "metadata": {},
   "source": [
    "![title](Shot_0.png)"
   ]
  },
  {
   "cell_type": "markdown",
   "metadata": {},
   "source": [
    "![title](Shot_1.png)"
   ]
  },
  {
   "cell_type": "markdown",
   "metadata": {},
   "source": [
    "A bit of dispersion on the direct arrivals as time increases, but it makes the point.\n",
    "We can even read the SEGY from scratch to double check it is fine:"
   ]
  },
  {
   "cell_type": "code",
   "execution_count": 32,
   "metadata": {},
   "outputs": [
    {
     "name": "stdout",
     "output_type": "stream",
     "text": [
      "\n",
      "\n",
      "\n",
      "{JobID: 0, LineNumber: 0, ReelNumber: 0, Traces: 1, AuxTraces: 0, Interval: 6, IntervalOriginal: 0, Samples: 834, SamplesOriginal: 0, Format: 1, EnsembleFold: 1, SortingCode: 5, VerticalSum: 0, SweepFrequencyStart: 0, SweepFrequencyEnd: 0, SweepLength: 0, Sweep: 0, SweepChannel: 0, SweepTaperStart: 0, SweepTaperEnd: 0, Taper: 0, CorrelatedTraces: 0, BinaryGainRecovery: 0, AmplitudeRecovery: 0, MeasurementSystem: 1, ImpulseSignalPolarity: 1, VibratoryPolarity: 0, ExtAuxTraces: 0, ExtSamples: 0, ExtSamplesOriginal: 0, ExtEnsembleFold: 0, SEGYRevision: 1, SEGYRevisionMinor: 0, TraceFlag: 1, ExtendedHeaders: 0}\n",
      "\n",
      "\n",
      "\n",
      "Sample rathe: 4.0\n",
      "Velocity array size: (834, 1000)\n",
      "Vmin, Vmax -0.15768535018 0.0996628189087\n"
     ]
    },
    {
     "data": {
      "text/plain": [
       "<matplotlib.image.AxesImage at 0x7ff406e9f3a0>"
      ]
     },
     "execution_count": 32,
     "metadata": {},
     "output_type": "execute_result"
    },
    {
     "data": {
      "image/png": "[encoded data removed]",
      "text/plain": [
       "<Figure size 432x288 with 1 Axes>"
      ]
     },
     "metadata": {
      "needs_background": "light"
     },
     "output_type": "display_data"
    }
   ],
   "source": [
    "'''\n",
    "Read a SEGY shot for QC.\n",
    "\n",
    "'''\n",
    "\n",
    "# User variables\n",
    "segyfile = r'Shot_0.sgy'\n",
    "\n",
    "#______________________________________________________________________________\n",
    "import matplotlib.pyplot as plt\n",
    "import segyio\n",
    "import numpy as np\n",
    "\n",
    "#______________________________________________________________________________\n",
    "# Read the Segy with SEGYIO\n",
    "f = segyio.open(segyfile, ignore_geometry=True)#,endian = 'big')\n",
    "traces=f.trace.raw[:].T\n",
    "n_traces = f.tracecount\n",
    "sample_rate = segyio.tools.dt(f) / 1000\n",
    "ebcdic_header = segyio.tools.wrap(f.text[0])\n",
    "bin_headers = f.bin\n",
    "spec = segyio.tools.metadata(f)\n",
    "#print(ebcdic_header)\n",
    "print(\"\\n\\n\")\n",
    "print(bin_headers)\n",
    "print(\"\\n\\n\")\n",
    "print(\"Sample rathe:\",sample_rate)\n",
    "# Find the min and max value in the dataset\n",
    "print(\"Velocity array size:\",traces.shape)\n",
    "vmin, vmax = np.percentile(traces, [2,98])\n",
    "print(\"Vmin, Vmax\", vmin,vmax)\n",
    "\n",
    "#______________________________________________________________________________\n",
    "# Plot the data\n",
    "plt.imshow(traces, cmap=plt.cm.seismic, vmin=-vmax, vmax=vmax)"
   ]
  }
 ],
 "metadata": {
  "kernelspec": {
   "display_name": "Python 3",
   "language": "python",
   "name": "python3"
  },
  "language_info": {
   "codemirror_mode": {
    "name": "ipython",
    "version": 3
   },
   "file_extension": ".py",
   "mimetype": "text/x-python",
   "name": "python",
   "nbconvert_exporter": "python",
   "pygments_lexer": "ipython3",
   "version": "3.8.5"
  }
 },
 "nbformat": 4,
 "nbformat_minor": 4
}
